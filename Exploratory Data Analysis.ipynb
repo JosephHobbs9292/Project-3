{
 "cells": [
  {
   "cell_type": "code",
   "execution_count": 1,
   "id": "bcc80188",
   "metadata": {},
   "outputs": [],
   "source": [
    "# Standard Imports\n",
    "import numpy as np\n",
    "import pandas as pd\n",
    "import matplotlib.pyplot as plt\n",
    "import seaborn as sns\n",
    "# Additional Imports\n",
    "import os, json, math, time\n",
    "from tqdm.notebook import tqdm_notebook\n",
    "import tmdbsimple as tmdb"
   ]
  },
  {
   "cell_type": "code",
   "execution_count": 4,
   "id": "1ccefb56",
   "metadata": {},
   "outputs": [
    {
     "name": "stdout",
     "output_type": "stream",
     "text": [
      "<class 'pandas.core.frame.DataFrame'>\n",
      "RangeIndex: 1233 entries, 0 to 1232\n",
      "Data columns (total 26 columns):\n",
      " #   Column                 Non-Null Count  Dtype  \n",
      "---  ------                 --------------  -----  \n",
      " 0   imdb_id                1233 non-null   object \n",
      " 1   adult                  1232 non-null   float64\n",
      " 2   backdrop_path          674 non-null    object \n",
      " 3   belongs_to_collection  112 non-null    object \n",
      " 4   budget                 1232 non-null   float64\n",
      " 5   genres                 1232 non-null   object \n",
      " 6   homepage               64 non-null     object \n",
      " 7   id                     1232 non-null   float64\n",
      " 8   original_language      1232 non-null   object \n",
      " 9   original_title         1232 non-null   object \n",
      " 10  overview               1209 non-null   object \n",
      " 11  popularity             1232 non-null   float64\n",
      " 12  poster_path            1108 non-null   object \n",
      " 13  production_companies   1232 non-null   object \n",
      " 14  production_countries   1232 non-null   object \n",
      " 15  release_date           1225 non-null   object \n",
      " 16  revenue                1232 non-null   float64\n",
      " 17  runtime                1232 non-null   float64\n",
      " 18  spoken_languages       1232 non-null   object \n",
      " 19  status                 1232 non-null   object \n",
      " 20  tagline                545 non-null    object \n",
      " 21  title                  1232 non-null   object \n",
      " 22  video                  1232 non-null   float64\n",
      " 23  vote_average           1232 non-null   float64\n",
      " 24  vote_count             1232 non-null   float64\n",
      " 25  certifcation           387 non-null    object \n",
      "dtypes: float64(9), object(17)\n",
      "memory usage: 250.6+ KB\n"
     ]
    }
   ],
   "source": [
    "df_2000 = pd.read_csv(\"Data/final_tmdb_data2000.csv.gz\")\n",
    "df_2000.info()"
   ]
  },
  {
   "cell_type": "code",
   "execution_count": 3,
   "id": "225aa58c",
   "metadata": {},
   "outputs": [
    {
     "name": "stdout",
     "output_type": "stream",
     "text": [
      "<class 'pandas.core.frame.DataFrame'>\n",
      "RangeIndex: 1323 entries, 0 to 1322\n",
      "Data columns (total 26 columns):\n",
      " #   Column                 Non-Null Count  Dtype  \n",
      "---  ------                 --------------  -----  \n",
      " 0   imdb_id                1323 non-null   object \n",
      " 1   adult                  1322 non-null   float64\n",
      " 2   backdrop_path          706 non-null    object \n",
      " 3   belongs_to_collection  92 non-null     object \n",
      " 4   budget                 1322 non-null   float64\n",
      " 5   genres                 1322 non-null   object \n",
      " 6   homepage               108 non-null    object \n",
      " 7   id                     1322 non-null   float64\n",
      " 8   original_language      1322 non-null   object \n",
      " 9   original_title         1322 non-null   object \n",
      " 10  overview               1293 non-null   object \n",
      " 11  popularity             1322 non-null   float64\n",
      " 12  poster_path            1189 non-null   object \n",
      " 13  production_companies   1322 non-null   object \n",
      " 14  production_countries   1322 non-null   object \n",
      " 15  release_date           1312 non-null   object \n",
      " 16  revenue                1322 non-null   float64\n",
      " 17  runtime                1322 non-null   float64\n",
      " 18  spoken_languages       1322 non-null   object \n",
      " 19  status                 1322 non-null   object \n",
      " 20  tagline                548 non-null    object \n",
      " 21  title                  1322 non-null   object \n",
      " 22  video                  1322 non-null   float64\n",
      " 23  vote_average           1322 non-null   float64\n",
      " 24  vote_count             1322 non-null   float64\n",
      " 25  certifcation           424 non-null    object \n",
      "dtypes: float64(9), object(17)\n",
      "memory usage: 268.9+ KB\n"
     ]
    }
   ],
   "source": [
    "df_2001 = pd.read_csv(\"Data/final_tmdb_data2001.csv.gz\")\n",
    "df_2001.info()\n"
   ]
  },
  {
   "cell_type": "code",
   "execution_count": 13,
   "id": "00ef7706",
   "metadata": {},
   "outputs": [
    {
     "name": "stdout",
     "output_type": "stream",
     "text": [
      "<class 'pandas.core.frame.DataFrame'>\n",
      "Int64Index: 2556 entries, 0 to 1232\n",
      "Data columns (total 26 columns):\n",
      " #   Column                 Non-Null Count  Dtype  \n",
      "---  ------                 --------------  -----  \n",
      " 0   imdb_id                2556 non-null   object \n",
      " 1   adult                  2554 non-null   float64\n",
      " 2   backdrop_path          1380 non-null   object \n",
      " 3   belongs_to_collection  204 non-null    object \n",
      " 4   budget                 2554 non-null   float64\n",
      " 5   genres                 2554 non-null   object \n",
      " 6   homepage               172 non-null    object \n",
      " 7   id                     2554 non-null   float64\n",
      " 8   original_language      2554 non-null   object \n",
      " 9   original_title         2554 non-null   object \n",
      " 10  overview               2502 non-null   object \n",
      " 11  popularity             2554 non-null   float64\n",
      " 12  poster_path            2297 non-null   object \n",
      " 13  production_companies   2554 non-null   object \n",
      " 14  production_countries   2554 non-null   object \n",
      " 15  release_date           2537 non-null   object \n",
      " 16  revenue                2554 non-null   float64\n",
      " 17  runtime                2554 non-null   float64\n",
      " 18  spoken_languages       2554 non-null   object \n",
      " 19  status                 2554 non-null   object \n",
      " 20  tagline                1093 non-null   object \n",
      " 21  title                  2554 non-null   object \n",
      " 22  video                  2554 non-null   float64\n",
      " 23  vote_average           2554 non-null   float64\n",
      " 24  vote_count             2554 non-null   float64\n",
      " 25  certifcation           811 non-null    object \n",
      "dtypes: float64(9), object(17)\n",
      "memory usage: 539.2+ KB\n"
     ]
    }
   ],
   "source": [
    "## Combining two dataframes\n",
    "df_merge = pd.concat([df_2001, df_2000])\n",
    "df_merge.info()"
   ]
  },
  {
   "cell_type": "code",
   "execution_count": 17,
   "id": "b3054bcb",
   "metadata": {},
   "outputs": [
    {
     "data": {
      "text/plain": [
       "634"
      ]
     },
     "execution_count": 17,
     "metadata": {},
     "output_type": "execute_result"
    }
   ],
   "source": [
    "## How many movies had at least some valid financial information (values > 0 for budget OR revenue)?\n",
    "revenue = df_merge[\"revenue\"] > 0\n",
    "budget = df_merge[\"budget\"] > 0\n",
    "\n",
    "movies_financial = df_merge.loc[revenue | budget]\n",
    "movies_financial[\"id\"].value_counts().sum()"
   ]
  },
  {
   "cell_type": "code",
   "execution_count": 27,
   "id": "7e31b52d",
   "metadata": {},
   "outputs": [
    {
     "data": {
      "text/plain": [
       "R          461\n",
       "PG-13      183\n",
       "NR          73\n",
       "PG          62\n",
       "G           24\n",
       "NC-17        6\n",
       "-            1\n",
       "Unrated      1\n",
       "Name: certifcation, dtype: int64"
      ]
     },
     "execution_count": 27,
     "metadata": {},
     "output_type": "execute_result"
    }
   ],
   "source": [
    "## How many movies are there in each of the certification categories (G/PG/PG-13/R)?\n",
    "df_merge[\"certifcation\"].value_counts()"
   ]
  },
  {
   "cell_type": "code",
   "execution_count": 28,
   "id": "c18de4f1",
   "metadata": {},
   "outputs": [
    {
     "data": {
      "text/plain": [
       "array([nan, 'PG-13', 'R', 'NR', 'PG', 'G', '-', 'NC-17', 'Unrated'],\n",
       "      dtype=object)"
      ]
     },
     "execution_count": 28,
     "metadata": {},
     "output_type": "execute_result"
    }
   ],
   "source": [
    "keys"
   ]
  },
  {
   "cell_type": "code",
   "execution_count": 42,
   "id": "7b9b1c8b",
   "metadata": {},
   "outputs": [
    {
     "data": {
      "text/plain": [
       "{nan: 0.0,\n",
       " 'PG-13': 13003451782.0,\n",
       " 'R': 7523091974.0,\n",
       " 'NR': 163007464.0,\n",
       " 'PG': 3900441687.0,\n",
       " 'G': 1732447849.0,\n",
       " '-': 0.0,\n",
       " 'NC-17': 0.0,\n",
       " 'Unrated': 0.0}"
      ]
     },
     "execution_count": 42,
     "metadata": {},
     "output_type": "execute_result"
    }
   ],
   "source": [
    "## What is the average revenue per certification category?\n",
    "revenue_dict = {}\n",
    "keys = df_merge[\"certifcation\"].unique()\n",
    "for char in keys:\n",
    "    filter_cert = df_merge[\"certifcation\"] == char\n",
    "    df = df_merge.loc[filter_cert, :]\n",
    "    total = df[\"revenue\"].sum()\n",
    "    revenue_dict.update({char : total})\n",
    "    \n",
    "revenue_dict"
   ]
  },
  {
   "cell_type": "code",
   "execution_count": 43,
   "id": "b26d0b9d",
   "metadata": {},
   "outputs": [
    {
     "data": {
      "text/plain": [
       "{nan: 0.0,\n",
       " 'PG-13': 5634157927.0,\n",
       " 'R': 4493604450.0,\n",
       " 'NR': 107140094.0,\n",
       " 'PG': 1567497234.0,\n",
       " 'G': 572000000.0,\n",
       " '-': 0.0,\n",
       " 'NC-17': 0.0,\n",
       " 'Unrated': 0.0}"
      ]
     },
     "execution_count": 43,
     "metadata": {},
     "output_type": "execute_result"
    }
   ],
   "source": [
    "## What is the average budget per certification category?\n",
    "budget_dict = {}\n",
    "for char in keys:\n",
    "    filter_cert = df_merge[\"certifcation\"] == char\n",
    "    df = df_merge.loc[filter_cert, :]\n",
    "    total = df[\"budget\"].sum()\n",
    "    revenue_dict.update({char : total})\n",
    "    \n",
    "revenue_dict"
   ]
  },
  {
   "cell_type": "code",
   "execution_count": 45,
   "id": "7924783e",
   "metadata": {},
   "outputs": [],
   "source": [
    "df_merge.to_csv(\"Data/TMDB_MERGED.cvs.gz\", compression = \"gzip\", index = False)\n"
   ]
  },
  {
   "cell_type": "code",
   "execution_count": null,
   "id": "5630eced",
   "metadata": {},
   "outputs": [],
   "source": []
  }
 ],
 "metadata": {
  "kernelspec": {
   "display_name": "Python (dojo-env)",
   "language": "python",
   "name": "dojo-env"
  },
  "language_info": {
   "codemirror_mode": {
    "name": "ipython",
    "version": 3
   },
   "file_extension": ".py",
   "mimetype": "text/x-python",
   "name": "python",
   "nbconvert_exporter": "python",
   "pygments_lexer": "ipython3",
   "version": "3.9.15"
  },
  "toc": {
   "base_numbering": 1,
   "nav_menu": {},
   "number_sections": true,
   "sideBar": true,
   "skip_h1_title": false,
   "title_cell": "Table of Contents",
   "title_sidebar": "Contents",
   "toc_cell": false,
   "toc_position": {},
   "toc_section_display": true,
   "toc_window_display": false
  }
 },
 "nbformat": 4,
 "nbformat_minor": 5
}
