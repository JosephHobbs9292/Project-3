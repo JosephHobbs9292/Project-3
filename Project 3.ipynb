{
 "cells": [
  {
   "cell_type": "markdown",
   "id": "97d6a923",
   "metadata": {},
   "source": [
    "## Loading Data and Importing Libraries\n",
    "---"
   ]
  },
  {
   "cell_type": "code",
   "execution_count": 1,
   "id": "62bde077",
   "metadata": {},
   "outputs": [],
   "source": [
    "## Importing Libraries\n",
    "import pandas as pd\n",
    "import numpy as np"
   ]
  },
  {
   "cell_type": "code",
   "execution_count": 2,
   "id": "8ce33d8d",
   "metadata": {},
   "outputs": [
    {
     "name": "stdout",
     "output_type": "stream",
     "text": [
      "<class 'pandas.core.frame.DataFrame'>\n",
      "RangeIndex: 9764099 entries, 0 to 9764098\n",
      "Data columns (total 9 columns):\n",
      " #   Column          Dtype \n",
      "---  ------          ----- \n",
      " 0   tconst          object\n",
      " 1   titleType       object\n",
      " 2   primaryTitle    object\n",
      " 3   originalTitle   object\n",
      " 4   isAdult         object\n",
      " 5   startYear       object\n",
      " 6   endYear         object\n",
      " 7   runtimeMinutes  object\n",
      " 8   genres          object\n",
      "dtypes: object(9)\n",
      "memory usage: 670.4+ MB\n"
     ]
    }
   ],
   "source": [
    "## Creating Data frame for basics and displaying results\n",
    "url_basics = \"https://datasets.imdbws.com/title.basics.tsv.gz\"\n",
    "df_basics = pd.read_csv(url_basics, sep = \"\\t\", low_memory = False)\n",
    "df_basics.info()"
   ]
  },
  {
   "cell_type": "code",
   "execution_count": 3,
   "id": "d686f0a7",
   "metadata": {},
   "outputs": [
    {
     "name": "stdout",
     "output_type": "stream",
     "text": [
      "<class 'pandas.core.frame.DataFrame'>\n",
      "RangeIndex: 35554042 entries, 0 to 35554041\n",
      "Data columns (total 8 columns):\n",
      " #   Column           Dtype \n",
      "---  ------           ----- \n",
      " 0   titleId          object\n",
      " 1   ordering         int64 \n",
      " 2   title            object\n",
      " 3   region           object\n",
      " 4   language         object\n",
      " 5   types            object\n",
      " 6   attributes       object\n",
      " 7   isOriginalTitle  object\n",
      "dtypes: int64(1), object(7)\n",
      "memory usage: 2.1+ GB\n"
     ]
    }
   ],
   "source": [
    "## Creating Dataframe for basics and displaying results\n",
    "url_akas = \"https://datasets.imdbws.com/title.akas.tsv.gz\"\n",
    "df_akas = pd.read_csv(url_akas, sep = \"\\t\", low_memory = False)\n",
    "df_akas.info()"
   ]
  },
  {
   "cell_type": "code",
   "execution_count": 4,
   "id": "8d351048",
   "metadata": {},
   "outputs": [
    {
     "name": "stdout",
     "output_type": "stream",
     "text": [
      "<class 'pandas.core.frame.DataFrame'>\n",
      "RangeIndex: 1299877 entries, 0 to 1299876\n",
      "Data columns (total 3 columns):\n",
      " #   Column         Non-Null Count    Dtype  \n",
      "---  ------         --------------    -----  \n",
      " 0   tconst         1299877 non-null  object \n",
      " 1   averageRating  1299877 non-null  float64\n",
      " 2   numVotes       1299877 non-null  int64  \n",
      "dtypes: float64(1), int64(1), object(1)\n",
      "memory usage: 29.8+ MB\n"
     ]
    }
   ],
   "source": [
    "## Creating Dataframe for basics and displaying results\n",
    "url_ratings = \"https://datasets.imdbws.com/title.ratings.tsv.gz\"\n",
    "df_ratings = pd.read_csv(url_ratings, sep = \"\\t\", low_memory = False)\n",
    "df_ratings.info()"
   ]
  },
  {
   "cell_type": "code",
   "execution_count": 5,
   "id": "9a923803",
   "metadata": {
    "scrolled": false
   },
   "outputs": [],
   "source": [
    "## Replacing /N with NAN\n",
    "df_ratings.replace({'\\\\N':np.nan}, inplace = True)\n",
    "df_basics.replace({'\\\\N':np.nan}, inplace = True)\n",
    "df_akas.replace({'\\\\N':np.nan}, inplace = True)"
   ]
  },
  {
   "cell_type": "code",
   "execution_count": 6,
   "id": "79556b9a",
   "metadata": {},
   "outputs": [
    {
     "data": {
      "text/plain": [
       "US    1428693\n",
       "Name: region, dtype: int64"
      ]
     },
     "execution_count": 6,
     "metadata": {},
     "output_type": "execute_result"
    }
   ],
   "source": [
    "## Filtering df_akas to only include rows from US\n",
    "us_filter = df_akas[\"region\"] == \"US\" \n",
    "df_akas = df_akas[us_filter]\n",
    "df_akas[\"region\"].value_counts()"
   ]
  },
  {
   "cell_type": "code",
   "execution_count": 7,
   "id": "9e5b81ec",
   "metadata": {},
   "outputs": [
    {
     "data": {
      "text/plain": [
       "tconst                  0\n",
       "titleType               0\n",
       "primaryTitle            1\n",
       "originalTitle           1\n",
       "isAdult                 0\n",
       "startYear          164498\n",
       "endYear           2748991\n",
       "runtimeMinutes          0\n",
       "genres                  0\n",
       "dtype: int64"
      ]
     },
     "execution_count": 7,
     "metadata": {},
     "output_type": "execute_result"
    }
   ],
   "source": [
    "## filtering out null values for runtime and genres\n",
    "df_basics.dropna(subset = [\"runtimeMinutes\"], inplace = True)\n",
    "df_basics.dropna(subset = [\"genres\"], inplace = True)\n",
    "df_basics.isna().sum()"
   ]
  },
  {
   "cell_type": "code",
   "execution_count": 8,
   "id": "e0793b10",
   "metadata": {},
   "outputs": [
    {
     "data": {
      "text/html": [
       "<div>\n",
       "<style scoped>\n",
       "    .dataframe tbody tr th:only-of-type {\n",
       "        vertical-align: middle;\n",
       "    }\n",
       "\n",
       "    .dataframe tbody tr th {\n",
       "        vertical-align: top;\n",
       "    }\n",
       "\n",
       "    .dataframe thead th {\n",
       "        text-align: right;\n",
       "    }\n",
       "</style>\n",
       "<table border=\"1\" class=\"dataframe\">\n",
       "  <thead>\n",
       "    <tr style=\"text-align: right;\">\n",
       "      <th></th>\n",
       "      <th>tconst</th>\n",
       "      <th>titleType</th>\n",
       "      <th>primaryTitle</th>\n",
       "      <th>originalTitle</th>\n",
       "      <th>isAdult</th>\n",
       "      <th>startYear</th>\n",
       "      <th>endYear</th>\n",
       "      <th>runtimeMinutes</th>\n",
       "      <th>genres</th>\n",
       "    </tr>\n",
       "  </thead>\n",
       "  <tbody>\n",
       "    <tr>\n",
       "      <th>8</th>\n",
       "      <td>tt0000009</td>\n",
       "      <td>movie</td>\n",
       "      <td>Miss Jerry</td>\n",
       "      <td>Miss Jerry</td>\n",
       "      <td>0</td>\n",
       "      <td>1894</td>\n",
       "      <td>NaN</td>\n",
       "      <td>45</td>\n",
       "      <td>Romance</td>\n",
       "    </tr>\n",
       "    <tr>\n",
       "      <th>144</th>\n",
       "      <td>tt0000147</td>\n",
       "      <td>movie</td>\n",
       "      <td>The Corbett-Fitzsimmons Fight</td>\n",
       "      <td>The Corbett-Fitzsimmons Fight</td>\n",
       "      <td>0</td>\n",
       "      <td>1897</td>\n",
       "      <td>NaN</td>\n",
       "      <td>100</td>\n",
       "      <td>Documentary,News,Sport</td>\n",
       "    </tr>\n",
       "    <tr>\n",
       "      <th>570</th>\n",
       "      <td>tt0000574</td>\n",
       "      <td>movie</td>\n",
       "      <td>The Story of the Kelly Gang</td>\n",
       "      <td>The Story of the Kelly Gang</td>\n",
       "      <td>0</td>\n",
       "      <td>1906</td>\n",
       "      <td>NaN</td>\n",
       "      <td>70</td>\n",
       "      <td>Action,Adventure,Biography</td>\n",
       "    </tr>\n",
       "    <tr>\n",
       "      <th>587</th>\n",
       "      <td>tt0000591</td>\n",
       "      <td>movie</td>\n",
       "      <td>The Prodigal Son</td>\n",
       "      <td>L'enfant prodigue</td>\n",
       "      <td>0</td>\n",
       "      <td>1907</td>\n",
       "      <td>NaN</td>\n",
       "      <td>90</td>\n",
       "      <td>Drama</td>\n",
       "    </tr>\n",
       "    <tr>\n",
       "      <th>672</th>\n",
       "      <td>tt0000679</td>\n",
       "      <td>movie</td>\n",
       "      <td>The Fairylogue and Radio-Plays</td>\n",
       "      <td>The Fairylogue and Radio-Plays</td>\n",
       "      <td>0</td>\n",
       "      <td>1908</td>\n",
       "      <td>NaN</td>\n",
       "      <td>120</td>\n",
       "      <td>Adventure,Fantasy</td>\n",
       "    </tr>\n",
       "  </tbody>\n",
       "</table>\n",
       "</div>"
      ],
      "text/plain": [
       "        tconst titleType                    primaryTitle  \\\n",
       "8    tt0000009     movie                      Miss Jerry   \n",
       "144  tt0000147     movie   The Corbett-Fitzsimmons Fight   \n",
       "570  tt0000574     movie     The Story of the Kelly Gang   \n",
       "587  tt0000591     movie                The Prodigal Son   \n",
       "672  tt0000679     movie  The Fairylogue and Radio-Plays   \n",
       "\n",
       "                      originalTitle isAdult startYear endYear runtimeMinutes  \\\n",
       "8                        Miss Jerry       0      1894     NaN             45   \n",
       "144   The Corbett-Fitzsimmons Fight       0      1897     NaN            100   \n",
       "570     The Story of the Kelly Gang       0      1906     NaN             70   \n",
       "587               L'enfant prodigue       0      1907     NaN             90   \n",
       "672  The Fairylogue and Radio-Plays       0      1908     NaN            120   \n",
       "\n",
       "                         genres  \n",
       "8                       Romance  \n",
       "144      Documentary,News,Sport  \n",
       "570  Action,Adventure,Biography  \n",
       "587                       Drama  \n",
       "672           Adventure,Fantasy  "
      ]
     },
     "execution_count": 8,
     "metadata": {},
     "output_type": "execute_result"
    }
   ],
   "source": [
    "## Filtering to only include type = movie\n",
    "filter_movie = df_basics[\"titleType\"] == \"movie\" \n",
    "df_basics = df_basics[filter_movie]\n",
    "df_basics.head()"
   ]
  },
  {
   "cell_type": "code",
   "execution_count": 9,
   "id": "2c83629d",
   "metadata": {},
   "outputs": [
    {
     "name": "stderr",
     "output_type": "stream",
     "text": [
      "C:\\Users\\josep\\AppData\\Local\\Temp\\ipykernel_5044\\100723607.py:7: UserWarning: Boolean Series key will be reindexed to match DataFrame index.\n",
      "  df_basics = df_basics[year_filter2]\n"
     ]
    },
    {
     "data": {
      "text/plain": [
       "2017.0    14368\n",
       "2018.0    14312\n",
       "2019.0    14040\n",
       "2016.0    13939\n",
       "2015.0    13462\n",
       "2014.0    13093\n",
       "2022.0    12635\n",
       "2013.0    12372\n",
       "2021.0    12304\n",
       "2012.0    11617\n",
       "2020.0    11552\n",
       "2011.0    10765\n",
       "2010.0    10200\n",
       "2009.0     9340\n",
       "2008.0     8142\n",
       "2007.0     6954\n",
       "2006.0     6504\n",
       "2005.0     5820\n",
       "2004.0     5192\n",
       "2003.0     4582\n",
       "2002.0     4127\n",
       "2001.0     3856\n",
       "2000.0     3636\n",
       "Name: startYear, dtype: int64"
      ]
     },
     "execution_count": 9,
     "metadata": {},
     "output_type": "execute_result"
    }
   ],
   "source": [
    "## Filtering for year to be between 2000 - 2002\n",
    "\n",
    "df_basics[\"startYear\"] = df_basics[\"startYear\"].astype(float)\n",
    "year_filter1 = df_basics[\"startYear\"] >= 2000 \n",
    "year_filter2 = df_basics[\"startYear\"] <= 2022\n",
    "df_basics = df_basics[year_filter1]\n",
    "df_basics = df_basics[year_filter2]\n",
    "                      \n",
    "df_basics[\"startYear\"].value_counts()"
   ]
  },
  {
   "cell_type": "code",
   "execution_count": 10,
   "id": "26190535",
   "metadata": {},
   "outputs": [],
   "source": [
    "## Filtering out documentaries \n",
    "is_documentary = df_basics['genres'].str.contains('documentary',case=False)\n",
    "df_basics = df_basics[~is_documentary]"
   ]
  },
  {
   "cell_type": "code",
   "execution_count": 11,
   "id": "4cd44367",
   "metadata": {},
   "outputs": [
    {
     "name": "stdout",
     "output_type": "stream",
     "text": [
      "<class 'pandas.core.frame.DataFrame'>\n",
      "Int64Index: 86303 entries, 34803 to 9763865\n",
      "Data columns (total 9 columns):\n",
      " #   Column          Non-Null Count  Dtype  \n",
      "---  ------          --------------  -----  \n",
      " 0   tconst          86303 non-null  object \n",
      " 1   titleType       86303 non-null  object \n",
      " 2   primaryTitle    86303 non-null  object \n",
      " 3   originalTitle   86303 non-null  object \n",
      " 4   isAdult         86303 non-null  object \n",
      " 5   startYear       86303 non-null  float64\n",
      " 6   endYear         0 non-null      object \n",
      " 7   runtimeMinutes  86303 non-null  object \n",
      " 8   genres          86303 non-null  object \n",
      "dtypes: float64(1), object(8)\n",
      "memory usage: 6.6+ MB\n"
     ]
    }
   ],
   "source": [
    "## Filtering to only include US movies \n",
    "us_filter = df_basics[\"tconst\"].isin(df_akas[\"titleId\"])\n",
    "df_basics = df_basics[us_filter]\n",
    "df_basics.info()"
   ]
  },
  {
   "cell_type": "code",
   "execution_count": 12,
   "id": "a8df8982",
   "metadata": {},
   "outputs": [
    {
     "name": "stdout",
     "output_type": "stream",
     "text": [
      "<class 'pandas.core.frame.DataFrame'>\n",
      "Int64Index: 0 entries\n",
      "Data columns (total 3 columns):\n",
      " #   Column         Non-Null Count  Dtype  \n",
      "---  ------         --------------  -----  \n",
      " 0   tconst         0 non-null      object \n",
      " 1   averageRating  0 non-null      float64\n",
      " 2   numVotes       0 non-null      int64  \n",
      "dtypes: float64(1), int64(1), object(1)\n",
      "memory usage: 0.0+ bytes\n"
     ]
    }
   ],
   "source": [
    "## Saving dataframe and displaying info now that it is filtered\n",
    "filter_ratings = df_ratings[\"tconst\"].isin(df_akas[\"region\"])\n",
    "df_ratings = df_ratings[filter_ratings]\n",
    "df_ratings.info()"
   ]
  },
  {
   "cell_type": "code",
   "execution_count": 13,
   "id": "2c3e3ba0",
   "metadata": {},
   "outputs": [],
   "source": [
    "df_basics.to_csv(\"basics.cvs.gz\", compression = \"gzip\", index = False)"
   ]
  },
  {
   "cell_type": "code",
   "execution_count": 14,
   "id": "8535d0dd",
   "metadata": {},
   "outputs": [],
   "source": [
    "df_ratings.to_csv(\"ratings.cvs.gz\", compression = \"gzip\", index = False)"
   ]
  },
  {
   "cell_type": "code",
   "execution_count": 15,
   "id": "2bc1f9fd",
   "metadata": {},
   "outputs": [],
   "source": [
    "df_akas.to_csv(\"akas.cvs.gz\", compression = \"gzip\", index = False)"
   ]
  },
  {
   "cell_type": "code",
   "execution_count": 17,
   "id": "92b3a750",
   "metadata": {},
   "outputs": [
    {
     "data": {
      "text/html": [
       "<div>\n",
       "<style scoped>\n",
       "    .dataframe tbody tr th:only-of-type {\n",
       "        vertical-align: middle;\n",
       "    }\n",
       "\n",
       "    .dataframe tbody tr th {\n",
       "        vertical-align: top;\n",
       "    }\n",
       "\n",
       "    .dataframe thead th {\n",
       "        text-align: right;\n",
       "    }\n",
       "</style>\n",
       "<table border=\"1\" class=\"dataframe\">\n",
       "  <thead>\n",
       "    <tr style=\"text-align: right;\">\n",
       "      <th></th>\n",
       "      <th>tconst\\taverageRating\\tnumVotes</th>\n",
       "    </tr>\n",
       "  </thead>\n",
       "  <tbody>\n",
       "    <tr>\n",
       "      <th>0</th>\n",
       "      <td>tt0000001\\t5.7\\t1965</td>\n",
       "    </tr>\n",
       "    <tr>\n",
       "      <th>1</th>\n",
       "      <td>tt0000002\\t5.8\\t262</td>\n",
       "    </tr>\n",
       "    <tr>\n",
       "      <th>2</th>\n",
       "      <td>tt0000003\\t6.5\\t1807</td>\n",
       "    </tr>\n",
       "    <tr>\n",
       "      <th>3</th>\n",
       "      <td>tt0000004\\t5.6\\t178</td>\n",
       "    </tr>\n",
       "    <tr>\n",
       "      <th>4</th>\n",
       "      <td>tt0000005\\t6.2\\t2604</td>\n",
       "    </tr>\n",
       "  </tbody>\n",
       "</table>\n",
       "</div>"
      ],
      "text/plain": [
       "  tconst\\taverageRating\\tnumVotes\n",
       "0            tt0000001\\t5.7\\t1965\n",
       "1             tt0000002\\t5.8\\t262\n",
       "2            tt0000003\\t6.5\\t1807\n",
       "3             tt0000004\\t5.6\\t178\n",
       "4            tt0000005\\t6.2\\t2604"
      ]
     },
     "execution_count": 17,
     "metadata": {},
     "output_type": "execute_result"
    }
   ],
   "source": [
    "test = pd.read_csv(\"Data/test.txt\")\n",
    "test.head()"
   ]
  },
  {
   "cell_type": "code",
   "execution_count": 18,
   "id": "a3037dbd",
   "metadata": {},
   "outputs": [],
   "source": [
    "test.to_csv(\"test.csv.gz\",compression = \"gzip\", index = False)"
   ]
  },
  {
   "cell_type": "code",
   "execution_count": null,
   "id": "ca5647a9",
   "metadata": {},
   "outputs": [],
   "source": []
  }
 ],
 "metadata": {
  "kernelspec": {
   "display_name": "Python (dojo-env)",
   "language": "python",
   "name": "dojo-env"
  },
  "language_info": {
   "codemirror_mode": {
    "name": "ipython",
    "version": 3
   },
   "file_extension": ".py",
   "mimetype": "text/x-python",
   "name": "python",
   "nbconvert_exporter": "python",
   "pygments_lexer": "ipython3",
   "version": "3.9.15"
  },
  "toc": {
   "base_numbering": 1,
   "nav_menu": {},
   "number_sections": true,
   "sideBar": true,
   "skip_h1_title": false,
   "title_cell": "Table of Contents",
   "title_sidebar": "Contents",
   "toc_cell": false,
   "toc_position": {
    "height": "calc(100% - 180px)",
    "left": "10px",
    "top": "150px",
    "width": "165px"
   },
   "toc_section_display": true,
   "toc_window_display": true
  }
 },
 "nbformat": 4,
 "nbformat_minor": 5
}
